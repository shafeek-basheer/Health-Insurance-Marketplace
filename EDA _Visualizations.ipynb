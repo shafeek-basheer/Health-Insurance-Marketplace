{
 "cells": [
  {
   "cell_type": "raw",
   "id": "2b4b638a-7df3-426a-832e-f0cfc74e2f05",
   "metadata": {},
   "source": [
    "\"Health Insurance Marketplace\" Explore health and dental plans data in the US Health Insurance Marketplace\n",
    "📍 TASK 3: EDA & Visualizations\n",
    "Exploratory Data Analysis (EDA)\n",
    "● Conduct descriptive and exploratory analysis to uncover patterns and trends:\n",
    "\n",
    "○ Univariate, bivariate, and multivariate analysis\n",
    "\n",
    "○ Use groupby, pivot tables, and correlation analysis\n",
    "\n",
    "○ Include statistical summaries to support findings"
   ]
  },
  {
   "cell_type": "raw",
   "id": "1451a740-c785-427f-9dfe-e29d424673cd",
   "metadata": {},
   "source": [
    "Visualizations\n",
    "● Use Matplotlib / Seaborn / Plotly to generate meaningful visualizations:\n",
    "\n",
    "○ Bar plots, line charts, pie charts, histograms, box plots, scatter plots, heatmaps, etc\n",
    "\n",
    "○ Ensure visuals should have proper titles, labels, legends, and color schemes\n",
    "\n",
    "○ Use subplots where applicable for better layout"
   ]
  },
  {
   "cell_type": "markdown",
   "id": "1171e0db-8db3-4013-8833-dea4f06c0617",
   "metadata": {},
   "source": [
    "1️⃣ : Importing Libraries"
   ]
  },
  {
   "cell_type": "code",
   "execution_count": 2,
   "id": "786368cf-ba5b-4096-97ba-8d94fb364dbb",
   "metadata": {},
   "outputs": [],
   "source": [
    "import numpy as np\n",
    "import pandas as pd\n",
    "import matplotlib.pyplot as plt \n",
    "import seaborn as sns"
   ]
  },
  {
   "cell_type": "markdown",
   "id": "6e977275-2c9d-42b7-84b1-7b3f7573b0d4",
   "metadata": {},
   "source": [
    "2️⃣ : Reading The Dataset"
   ]
  },
  {
   "cell_type": "code",
   "execution_count": 4,
   "id": "bcb248a4-ccb2-4e3b-ae9a-26b5a73f8036",
   "metadata": {},
   "outputs": [],
   "source": [
    "new_Benifit_cost=pd.read_csv(r\"C:\\Users\\hp\\cleaned_Benifitcost.csv\")"
   ]
  },
  {
   "cell_type": "code",
   "execution_count": 5,
   "id": "3b826017-9b7e-4754-9dba-5b987d4f482d",
   "metadata": {},
   "outputs": [
    {
     "data": {
      "text/html": [
       "<div>\n",
       "<style scoped>\n",
       "    .dataframe tbody tr th:only-of-type {\n",
       "        vertical-align: middle;\n",
       "    }\n",
       "\n",
       "    .dataframe tbody tr th {\n",
       "        vertical-align: top;\n",
       "    }\n",
       "\n",
       "    .dataframe thead th {\n",
       "        text-align: right;\n",
       "    }\n",
       "</style>\n",
       "<table border=\"1\" class=\"dataframe\">\n",
       "  <thead>\n",
       "    <tr style=\"text-align: right;\">\n",
       "      <th></th>\n",
       "      <th>BenefitName</th>\n",
       "      <th>BusinessYear</th>\n",
       "      <th>CoinsInnTier1</th>\n",
       "      <th>CopayInnTier1</th>\n",
       "      <th>PlanId</th>\n",
       "      <th>SourceName</th>\n",
       "      <th>StateCode</th>\n",
       "    </tr>\n",
       "  </thead>\n",
       "  <tbody>\n",
       "    <tr>\n",
       "      <th>0</th>\n",
       "      <td>Routine Dental Services (Adult)</td>\n",
       "      <td>2014</td>\n",
       "      <td>20</td>\n",
       "      <td>0</td>\n",
       "      <td>21989AK0010001-00</td>\n",
       "      <td>HIOS</td>\n",
       "      <td>AK</td>\n",
       "    </tr>\n",
       "    <tr>\n",
       "      <th>1</th>\n",
       "      <td>Dental Check-Up For Children</td>\n",
       "      <td>2014</td>\n",
       "      <td>20</td>\n",
       "      <td>0</td>\n",
       "      <td>21989AK0010001-00</td>\n",
       "      <td>HIOS</td>\n",
       "      <td>AK</td>\n",
       "    </tr>\n",
       "  </tbody>\n",
       "</table>\n",
       "</div>"
      ],
      "text/plain": [
       "                       BenefitName  BusinessYear  CoinsInnTier1  \\\n",
       "0  Routine Dental Services (Adult)          2014             20   \n",
       "1     Dental Check-Up For Children          2014             20   \n",
       "\n",
       "   CopayInnTier1             PlanId SourceName StateCode  \n",
       "0              0  21989AK0010001-00       HIOS        AK  \n",
       "1              0  21989AK0010001-00       HIOS        AK  "
      ]
     },
     "execution_count": 5,
     "metadata": {},
     "output_type": "execute_result"
    }
   ],
   "source": [
    "new_Benifit_cost.head(2)"
   ]
  },
  {
   "cell_type": "raw",
   "id": "5d662ed9-5f13-43b4-9d3c-137afd448ac2",
   "metadata": {},
   "source": [
    "⌛ Analysing Data of the Health-care Dataset\n",
    "🔹 Extracting Column names"
   ]
  },
  {
   "cell_type": "code",
   "execution_count": 6,
   "id": "16593b4b-3e2b-4db2-b544-f580f2e28f11",
   "metadata": {},
   "outputs": [
    {
     "data": {
      "text/plain": [
       "Index(['BenefitName', 'BusinessYear', 'CoinsInnTier1', 'CopayInnTier1',\n",
       "       'PlanId', 'SourceName', 'StateCode'],\n",
       "      dtype='object')"
      ]
     },
     "execution_count": 6,
     "metadata": {},
     "output_type": "execute_result"
    }
   ],
   "source": [
    "new_Benifit_cost.columns"
   ]
  },
  {
   "cell_type": "markdown",
   "id": "187cea60-22a2-481b-af70-e622fd2276a0",
   "metadata": {},
   "source": [
    "🔹 Finding out Total Number of Rows and Columns"
   ]
  },
  {
   "cell_type": "code",
   "execution_count": 8,
   "id": "824afe9f-f2cc-4c18-a84f-d22dd2f99e27",
   "metadata": {},
   "outputs": [
    {
     "data": {
      "text/plain": [
       "(5048408, 7)"
      ]
     },
     "execution_count": 8,
     "metadata": {},
     "output_type": "execute_result"
    }
   ],
   "source": [
    "new_Benifit_cost.shape"
   ]
  },
  {
   "cell_type": "markdown",
   "id": "0349432d-38a2-4887-8101-41d5c024a7f3",
   "metadata": {},
   "source": [
    "🔹 Extracting First 2 Rows from Benefit Cost sharing data set"
   ]
  },
  {
   "cell_type": "code",
   "execution_count": 10,
   "id": "fbe62086-868e-421c-aacd-bc67e41968c1",
   "metadata": {},
   "outputs": [
    {
     "data": {
      "text/html": [
       "<div>\n",
       "<style scoped>\n",
       "    .dataframe tbody tr th:only-of-type {\n",
       "        vertical-align: middle;\n",
       "    }\n",
       "\n",
       "    .dataframe tbody tr th {\n",
       "        vertical-align: top;\n",
       "    }\n",
       "\n",
       "    .dataframe thead th {\n",
       "        text-align: right;\n",
       "    }\n",
       "</style>\n",
       "<table border=\"1\" class=\"dataframe\">\n",
       "  <thead>\n",
       "    <tr style=\"text-align: right;\">\n",
       "      <th></th>\n",
       "      <th>BenefitName</th>\n",
       "      <th>BusinessYear</th>\n",
       "      <th>CoinsInnTier1</th>\n",
       "      <th>CopayInnTier1</th>\n",
       "      <th>PlanId</th>\n",
       "      <th>SourceName</th>\n",
       "      <th>StateCode</th>\n",
       "    </tr>\n",
       "  </thead>\n",
       "  <tbody>\n",
       "    <tr>\n",
       "      <th>0</th>\n",
       "      <td>Routine Dental Services (Adult)</td>\n",
       "      <td>2014</td>\n",
       "      <td>20</td>\n",
       "      <td>0</td>\n",
       "      <td>21989AK0010001-00</td>\n",
       "      <td>HIOS</td>\n",
       "      <td>AK</td>\n",
       "    </tr>\n",
       "    <tr>\n",
       "      <th>1</th>\n",
       "      <td>Dental Check-Up For Children</td>\n",
       "      <td>2014</td>\n",
       "      <td>20</td>\n",
       "      <td>0</td>\n",
       "      <td>21989AK0010001-00</td>\n",
       "      <td>HIOS</td>\n",
       "      <td>AK</td>\n",
       "    </tr>\n",
       "  </tbody>\n",
       "</table>\n",
       "</div>"
      ],
      "text/plain": [
       "                       BenefitName  BusinessYear  CoinsInnTier1  \\\n",
       "0  Routine Dental Services (Adult)          2014             20   \n",
       "1     Dental Check-Up For Children          2014             20   \n",
       "\n",
       "   CopayInnTier1             PlanId SourceName StateCode  \n",
       "0              0  21989AK0010001-00       HIOS        AK  \n",
       "1              0  21989AK0010001-00       HIOS        AK  "
      ]
     },
     "execution_count": 10,
     "metadata": {},
     "output_type": "execute_result"
    }
   ],
   "source": [
    "new_Benifit_cost.head(2)"
   ]
  },
  {
   "cell_type": "markdown",
   "id": "a2086eff-6ee7-4af2-a1fc-589f0f7c0ef0",
   "metadata": {},
   "source": [
    "🔹 Extracting Last 2 Rows from Benefit Cost sharing data set"
   ]
  },
  {
   "cell_type": "code",
   "execution_count": 12,
   "id": "01add95e-3820-4601-8594-af063b6fc14b",
   "metadata": {},
   "outputs": [
    {
     "data": {
      "text/html": [
       "<div>\n",
       "<style scoped>\n",
       "    .dataframe tbody tr th:only-of-type {\n",
       "        vertical-align: middle;\n",
       "    }\n",
       "\n",
       "    .dataframe tbody tr th {\n",
       "        vertical-align: top;\n",
       "    }\n",
       "\n",
       "    .dataframe thead th {\n",
       "        text-align: right;\n",
       "    }\n",
       "</style>\n",
       "<table border=\"1\" class=\"dataframe\">\n",
       "  <thead>\n",
       "    <tr style=\"text-align: right;\">\n",
       "      <th></th>\n",
       "      <th>BenefitName</th>\n",
       "      <th>BusinessYear</th>\n",
       "      <th>CoinsInnTier1</th>\n",
       "      <th>CopayInnTier1</th>\n",
       "      <th>PlanId</th>\n",
       "      <th>SourceName</th>\n",
       "      <th>StateCode</th>\n",
       "    </tr>\n",
       "  </thead>\n",
       "  <tbody>\n",
       "    <tr>\n",
       "      <th>5048406</th>\n",
       "      <td>Major Dental Care - Adult</td>\n",
       "      <td>2016</td>\n",
       "      <td>0</td>\n",
       "      <td>0</td>\n",
       "      <td>96480WV0110003-00</td>\n",
       "      <td>SERFF</td>\n",
       "      <td>WV</td>\n",
       "    </tr>\n",
       "    <tr>\n",
       "      <th>5048407</th>\n",
       "      <td>Accidental Dental</td>\n",
       "      <td>2016</td>\n",
       "      <td>0</td>\n",
       "      <td>0</td>\n",
       "      <td>96480WV0110003-00</td>\n",
       "      <td>SERFF</td>\n",
       "      <td>WV</td>\n",
       "    </tr>\n",
       "  </tbody>\n",
       "</table>\n",
       "</div>"
      ],
      "text/plain": [
       "                       BenefitName  BusinessYear  CoinsInnTier1  \\\n",
       "5048406  Major Dental Care - Adult          2016              0   \n",
       "5048407          Accidental Dental          2016              0   \n",
       "\n",
       "         CopayInnTier1             PlanId SourceName StateCode  \n",
       "5048406              0  96480WV0110003-00      SERFF        WV  \n",
       "5048407              0  96480WV0110003-00      SERFF        WV  "
      ]
     },
     "execution_count": 12,
     "metadata": {},
     "output_type": "execute_result"
    }
   ],
   "source": [
    "new_Benifit_cost.tail(2)"
   ]
  },
  {
   "cell_type": "markdown",
   "id": "85fd3530-48bb-4da5-82d0-65b1c82cf9cd",
   "metadata": {},
   "source": [
    "🔹 Ensuring there is No Null Value in this Cleaned Health-Care Dataset"
   ]
  },
  {
   "cell_type": "code",
   "execution_count": 14,
   "id": "2667fe2e-81b8-47c7-92c6-e3da09b82683",
   "metadata": {},
   "outputs": [
    {
     "data": {
      "text/plain": [
       "BenefitName      0\n",
       "BusinessYear     0\n",
       "CoinsInnTier1    0\n",
       "CopayInnTier1    0\n",
       "PlanId           0\n",
       "SourceName       0\n",
       "StateCode        0\n",
       "dtype: int64"
      ]
     },
     "execution_count": 14,
     "metadata": {},
     "output_type": "execute_result"
    }
   ],
   "source": [
    "new_Benifit_cost.isnull().sum()"
   ]
  },
  {
   "cell_type": "markdown",
   "id": "852aff27-8066-4ea6-b699-a83ea371e9e7",
   "metadata": {},
   "source": [
    "🔹 Checking for Any Duplicated Value left after Data-Clening"
   ]
  },
  {
   "cell_type": "code",
   "execution_count": 16,
   "id": "d059c293-177e-4d9d-b049-0f7464065f53",
   "metadata": {},
   "outputs": [
    {
     "data": {
      "text/plain": [
       "224"
      ]
     },
     "execution_count": 16,
     "metadata": {},
     "output_type": "execute_result"
    }
   ],
   "source": [
    "new_Benifit_cost.duplicated().sum()"
   ]
  },
  {
   "cell_type": "code",
   "execution_count": 17,
   "id": "a16edb89-d82d-4e44-9054-69eb06940403",
   "metadata": {},
   "outputs": [],
   "source": [
    "new_Benifit_cost.drop_duplicates(inplace=True)"
   ]
  },
  {
   "cell_type": "code",
   "execution_count": 18,
   "id": "7c639e91-8722-43f7-92fd-9da11379f93b",
   "metadata": {},
   "outputs": [
    {
     "data": {
      "text/plain": [
       "0"
      ]
     },
     "execution_count": 18,
     "metadata": {},
     "output_type": "execute_result"
    }
   ],
   "source": [
    "new_Benifit_cost.duplicated().sum()"
   ]
  },
  {
   "cell_type": "markdown",
   "id": "40211055-986c-4513-a1c4-437c01b02390",
   "metadata": {},
   "source": [
    "🔹 Over-Looking the Benefit Cost Sharing Dataset with Derived Column"
   ]
  },
  {
   "cell_type": "code",
   "execution_count": 20,
   "id": "e9261abf-465f-47c8-b43d-d33cb26159f0",
   "metadata": {},
   "outputs": [
    {
     "name": "stdout",
     "output_type": "stream",
     "text": [
      "<class 'pandas.core.frame.DataFrame'>\n",
      "Index: 5048184 entries, 0 to 5048407\n",
      "Data columns (total 7 columns):\n",
      " #   Column         Dtype \n",
      "---  ------         ----- \n",
      " 0   BenefitName    object\n",
      " 1   BusinessYear   int64 \n",
      " 2   CoinsInnTier1  int64 \n",
      " 3   CopayInnTier1  int64 \n",
      " 4   PlanId         object\n",
      " 5   SourceName     object\n",
      " 6   StateCode      object\n",
      "dtypes: int64(3), object(4)\n",
      "memory usage: 308.1+ MB\n"
     ]
    }
   ],
   "source": [
    "new_Benifit_cost.info()"
   ]
  },
  {
   "cell_type": "markdown",
   "id": "c8a11eb8-971b-4664-b72d-fc74c68fa1e7",
   "metadata": {},
   "source": [
    "🔹 Statistical Summary of all Numeric Columns In this Cleaned Dataset"
   ]
  },
  {
   "cell_type": "code",
   "execution_count": 22,
   "id": "fcf3134a-c319-45fe-a5bf-a6ccf2420788",
   "metadata": {},
   "outputs": [
    {
     "data": {
      "text/html": [
       "<div>\n",
       "<style scoped>\n",
       "    .dataframe tbody tr th:only-of-type {\n",
       "        vertical-align: middle;\n",
       "    }\n",
       "\n",
       "    .dataframe tbody tr th {\n",
       "        vertical-align: top;\n",
       "    }\n",
       "\n",
       "    .dataframe thead th {\n",
       "        text-align: right;\n",
       "    }\n",
       "</style>\n",
       "<table border=\"1\" class=\"dataframe\">\n",
       "  <thead>\n",
       "    <tr style=\"text-align: right;\">\n",
       "      <th></th>\n",
       "      <th>BusinessYear</th>\n",
       "      <th>CoinsInnTier1</th>\n",
       "      <th>CopayInnTier1</th>\n",
       "    </tr>\n",
       "  </thead>\n",
       "  <tbody>\n",
       "    <tr>\n",
       "      <th>count</th>\n",
       "      <td>5.048184e+06</td>\n",
       "      <td>5.048184e+06</td>\n",
       "      <td>5.048184e+06</td>\n",
       "    </tr>\n",
       "    <tr>\n",
       "      <th>mean</th>\n",
       "      <td>2.015127e+03</td>\n",
       "      <td>9.232244e+00</td>\n",
       "      <td>1.317598e+01</td>\n",
       "    </tr>\n",
       "    <tr>\n",
       "      <th>std</th>\n",
       "      <td>7.563562e-01</td>\n",
       "      <td>1.470513e+01</td>\n",
       "      <td>7.715727e+01</td>\n",
       "    </tr>\n",
       "    <tr>\n",
       "      <th>min</th>\n",
       "      <td>2.014000e+03</td>\n",
       "      <td>0.000000e+00</td>\n",
       "      <td>0.000000e+00</td>\n",
       "    </tr>\n",
       "    <tr>\n",
       "      <th>25%</th>\n",
       "      <td>2.015000e+03</td>\n",
       "      <td>0.000000e+00</td>\n",
       "      <td>0.000000e+00</td>\n",
       "    </tr>\n",
       "    <tr>\n",
       "      <th>50%</th>\n",
       "      <td>2.015000e+03</td>\n",
       "      <td>0.000000e+00</td>\n",
       "      <td>0.000000e+00</td>\n",
       "    </tr>\n",
       "    <tr>\n",
       "      <th>75%</th>\n",
       "      <td>2.016000e+03</td>\n",
       "      <td>2.000000e+01</td>\n",
       "      <td>0.000000e+00</td>\n",
       "    </tr>\n",
       "    <tr>\n",
       "      <th>max</th>\n",
       "      <td>2.016000e+03</td>\n",
       "      <td>1.100000e+02</td>\n",
       "      <td>6.600000e+03</td>\n",
       "    </tr>\n",
       "  </tbody>\n",
       "</table>\n",
       "</div>"
      ],
      "text/plain": [
       "       BusinessYear  CoinsInnTier1  CopayInnTier1\n",
       "count  5.048184e+06   5.048184e+06   5.048184e+06\n",
       "mean   2.015127e+03   9.232244e+00   1.317598e+01\n",
       "std    7.563562e-01   1.470513e+01   7.715727e+01\n",
       "min    2.014000e+03   0.000000e+00   0.000000e+00\n",
       "25%    2.015000e+03   0.000000e+00   0.000000e+00\n",
       "50%    2.015000e+03   0.000000e+00   0.000000e+00\n",
       "75%    2.016000e+03   2.000000e+01   0.000000e+00\n",
       "max    2.016000e+03   1.100000e+02   6.600000e+03"
      ]
     },
     "execution_count": 22,
     "metadata": {},
     "output_type": "execute_result"
    }
   ],
   "source": [
    "new_Benifit_cost.describe()"
   ]
  },
  {
   "cell_type": "markdown",
   "id": "e7c35e73-7dfe-4f72-92f6-5eb093318a66",
   "metadata": {},
   "source": [
    "🔹 Statistical Summary of Descriptive Columns In this Cleaned Dataset"
   ]
  },
  {
   "cell_type": "code",
   "execution_count": 24,
   "id": "d78575da-a3aa-46d7-a52c-909a3abf50da",
   "metadata": {},
   "outputs": [
    {
     "data": {
      "text/html": [
       "<div>\n",
       "<style scoped>\n",
       "    .dataframe tbody tr th:only-of-type {\n",
       "        vertical-align: middle;\n",
       "    }\n",
       "\n",
       "    .dataframe tbody tr th {\n",
       "        vertical-align: top;\n",
       "    }\n",
       "\n",
       "    .dataframe thead th {\n",
       "        text-align: right;\n",
       "    }\n",
       "</style>\n",
       "<table border=\"1\" class=\"dataframe\">\n",
       "  <thead>\n",
       "    <tr style=\"text-align: right;\">\n",
       "      <th></th>\n",
       "      <th>BenefitName</th>\n",
       "      <th>PlanId</th>\n",
       "      <th>SourceName</th>\n",
       "      <th>StateCode</th>\n",
       "    </tr>\n",
       "  </thead>\n",
       "  <tbody>\n",
       "    <tr>\n",
       "      <th>count</th>\n",
       "      <td>5048184</td>\n",
       "      <td>5048184</td>\n",
       "      <td>5048184</td>\n",
       "      <td>5048184</td>\n",
       "    </tr>\n",
       "    <tr>\n",
       "      <th>unique</th>\n",
       "      <td>792</td>\n",
       "      <td>52394</td>\n",
       "      <td>3</td>\n",
       "      <td>39</td>\n",
       "    </tr>\n",
       "    <tr>\n",
       "      <th>top</th>\n",
       "      <td>Routine Dental Services (Adult)</td>\n",
       "      <td>31274WV0310001-03</td>\n",
       "      <td>HIOS</td>\n",
       "      <td>WI</td>\n",
       "    </tr>\n",
       "    <tr>\n",
       "      <th>freq</th>\n",
       "      <td>77353</td>\n",
       "      <td>291</td>\n",
       "      <td>3049037</td>\n",
       "      <td>512587</td>\n",
       "    </tr>\n",
       "  </tbody>\n",
       "</table>\n",
       "</div>"
      ],
      "text/plain": [
       "                            BenefitName             PlanId SourceName  \\\n",
       "count                           5048184            5048184    5048184   \n",
       "unique                              792              52394          3   \n",
       "top     Routine Dental Services (Adult)  31274WV0310001-03       HIOS   \n",
       "freq                              77353                291    3049037   \n",
       "\n",
       "       StateCode  \n",
       "count    5048184  \n",
       "unique        39  \n",
       "top           WI  \n",
       "freq      512587  "
      ]
     },
     "execution_count": 24,
     "metadata": {},
     "output_type": "execute_result"
    }
   ],
   "source": [
    "new_Benifit_cost.describe(include = 'object')"
   ]
  },
  {
   "cell_type": "markdown",
   "id": "6fcb4326-5d90-4514-b01b-c2bd8eae08c3",
   "metadata": {},
   "source": [
    "🟥 Visualizing  Analyze which benefit type topping the chart in a given business year"
   ]
  },
  {
   "cell_type": "code",
   "execution_count": 26,
   "id": "67d3a947-fbd1-45af-a6bd-f6e96b911137",
   "metadata": {},
   "outputs": [
    {
     "data": {
      "text/html": [
       "<div>\n",
       "<style scoped>\n",
       "    .dataframe tbody tr th:only-of-type {\n",
       "        vertical-align: middle;\n",
       "    }\n",
       "\n",
       "    .dataframe tbody tr th {\n",
       "        vertical-align: top;\n",
       "    }\n",
       "\n",
       "    .dataframe thead tr th {\n",
       "        text-align: left;\n",
       "    }\n",
       "\n",
       "    .dataframe thead tr:last-of-type th {\n",
       "        text-align: right;\n",
       "    }\n",
       "</style>\n",
       "<table border=\"1\" class=\"dataframe\">\n",
       "  <thead>\n",
       "    <tr>\n",
       "      <th></th>\n",
       "      <th colspan=\"4\" halign=\"left\">BenefitName</th>\n",
       "    </tr>\n",
       "    <tr>\n",
       "      <th></th>\n",
       "      <th>count</th>\n",
       "      <th>unique</th>\n",
       "      <th>top</th>\n",
       "      <th>freq</th>\n",
       "    </tr>\n",
       "    <tr>\n",
       "      <th>BusinessYear</th>\n",
       "      <th></th>\n",
       "      <th></th>\n",
       "      <th></th>\n",
       "      <th></th>\n",
       "    </tr>\n",
       "  </thead>\n",
       "  <tbody>\n",
       "    <tr>\n",
       "      <th>2014</th>\n",
       "      <td>1164732</td>\n",
       "      <td>479</td>\n",
       "      <td>Routine Dental Services (Adult)</td>\n",
       "      <td>18719</td>\n",
       "    </tr>\n",
       "    <tr>\n",
       "      <th>2015</th>\n",
       "      <td>2079240</td>\n",
       "      <td>497</td>\n",
       "      <td>Accidental Dental</td>\n",
       "      <td>31253</td>\n",
       "    </tr>\n",
       "    <tr>\n",
       "      <th>2016</th>\n",
       "      <td>1804212</td>\n",
       "      <td>393</td>\n",
       "      <td>Routine Dental Services (Adult)</td>\n",
       "      <td>27381</td>\n",
       "    </tr>\n",
       "  </tbody>\n",
       "</table>\n",
       "</div>"
      ],
      "text/plain": [
       "             BenefitName                                               \n",
       "                   count unique                              top   freq\n",
       "BusinessYear                                                           \n",
       "2014             1164732    479  Routine Dental Services (Adult)  18719\n",
       "2015             2079240    497                Accidental Dental  31253\n",
       "2016             1804212    393  Routine Dental Services (Adult)  27381"
      ]
     },
     "execution_count": 26,
     "metadata": {},
     "output_type": "execute_result"
    }
   ],
   "source": [
    "new_Benifit_cost[[\"BusinessYear\",\"BenefitName\"]].groupby('BusinessYear').describe()"
   ]
  },
  {
   "cell_type": "code",
   "execution_count": 34,
   "id": "9851f661-e7c7-4235-bdff-91d1e28e4942",
   "metadata": {},
   "outputs": [
    {
     "data": {
      "text/plain": [
       "count                             5048184\n",
       "unique                                792\n",
       "top       Routine Dental Services (Adult)\n",
       "freq                                77353\n",
       "Name: BenefitName, dtype: object"
      ]
     },
     "execution_count": 34,
     "metadata": {},
     "output_type": "execute_result"
    }
   ],
   "source": [
    "new_Benifit_cost['BenefitName'].describe()"
   ]
  },
  {
   "cell_type": "code",
   "execution_count": 36,
   "id": "be826da4-ee77-458f-a1d2-e81c967aa497",
   "metadata": {},
   "outputs": [],
   "source": [
    "## Analyze benefit penetration statewise"
   ]
  },
  {
   "cell_type": "code",
   "execution_count": 38,
   "id": "649679a2-a277-4197-9605-b45cd9090405",
   "metadata": {},
   "outputs": [
    {
     "name": "stderr",
     "output_type": "stream",
     "text": [
      "C:\\Users\\hp\\AppData\\Local\\Temp\\ipykernel_6280\\1352159406.py:10: UserWarning: set_ticklabels() should only be used with a fixed number of ticks, i.e. after set_ticks() or using a FixedLocator.\n",
      "  ax.set_yticklabels(Unique_State, rotation='horizontal', fontsize='small')\n"
     ]
    },
    {
     "data": {
      "image/png": "[encoded data removed]",
      "text/plain": [
       "<Figure size 500x800 with 1 Axes>"
      ]
     },
     "metadata": {},
     "output_type": "display_data"
    }
   ],
   "source": [
    "new_Benifit_cost[[\"StateCode\",\"BenefitName\"]].groupby('StateCode').count().sort_values(\"BenefitName\")\n",
    "Unique_State = new_Benifit_cost.StateCode.unique()\n",
    "benefitarray = []\n",
    "\n",
    "for state in Unique_State:\n",
    "    state_benefit =  len(new_Benifit_cost[new_Benifit_cost[\"StateCode\"] == state])    \n",
    "    benefitarray.append(state_benefit)   \n",
    "f, ax = plt.subplots(figsize=(5, 8)) \n",
    "plt.title('benefit penetration statewise', fontsize=15)\n",
    "ax.set_yticklabels(Unique_State, rotation='horizontal', fontsize='small')\n",
    "g = sns.barplot(y = Unique_State,x=benefitarray)\n",
    "plt.show()\n"
   ]
  },
  {
   "cell_type": "code",
   "execution_count": 42,
   "id": "837adc29-da63-41d4-8f62-2cb8cdd1bba8",
   "metadata": {},
   "outputs": [
    {
     "data": {
      "text/html": [
       "<div>\n",
       "<style scoped>\n",
       "    .dataframe tbody tr th:only-of-type {\n",
       "        vertical-align: middle;\n",
       "    }\n",
       "\n",
       "    .dataframe tbody tr th {\n",
       "        vertical-align: top;\n",
       "    }\n",
       "\n",
       "    .dataframe thead tr th {\n",
       "        text-align: left;\n",
       "    }\n",
       "\n",
       "    .dataframe thead tr:last-of-type th {\n",
       "        text-align: right;\n",
       "    }\n",
       "</style>\n",
       "<table border=\"1\" class=\"dataframe\">\n",
       "  <thead>\n",
       "    <tr>\n",
       "      <th></th>\n",
       "      <th colspan=\"4\" halign=\"left\">BenefitName</th>\n",
       "    </tr>\n",
       "    <tr>\n",
       "      <th></th>\n",
       "      <th>count</th>\n",
       "      <th>unique</th>\n",
       "      <th>top</th>\n",
       "      <th>freq</th>\n",
       "    </tr>\n",
       "    <tr>\n",
       "      <th>BusinessYear</th>\n",
       "      <th></th>\n",
       "      <th></th>\n",
       "      <th></th>\n",
       "      <th></th>\n",
       "    </tr>\n",
       "  </thead>\n",
       "  <tbody>\n",
       "    <tr>\n",
       "      <th>2014</th>\n",
       "      <td>1164732</td>\n",
       "      <td>479</td>\n",
       "      <td>Routine Dental Services (Adult)</td>\n",
       "      <td>18719</td>\n",
       "    </tr>\n",
       "    <tr>\n",
       "      <th>2015</th>\n",
       "      <td>2079240</td>\n",
       "      <td>497</td>\n",
       "      <td>Accidental Dental</td>\n",
       "      <td>31253</td>\n",
       "    </tr>\n",
       "    <tr>\n",
       "      <th>2016</th>\n",
       "      <td>1804212</td>\n",
       "      <td>393</td>\n",
       "      <td>Routine Dental Services (Adult)</td>\n",
       "      <td>27381</td>\n",
       "    </tr>\n",
       "  </tbody>\n",
       "</table>\n",
       "</div>"
      ],
      "text/plain": [
       "             BenefitName                                               \n",
       "                   count unique                              top   freq\n",
       "BusinessYear                                                           \n",
       "2014             1164732    479  Routine Dental Services (Adult)  18719\n",
       "2015             2079240    497                Accidental Dental  31253\n",
       "2016             1804212    393  Routine Dental Services (Adult)  27381"
      ]
     },
     "execution_count": 42,
     "metadata": {},
     "output_type": "execute_result"
    }
   ],
   "source": [
    "new_Benifit_cost[[\"BusinessYear\",\"BenefitName\"]].groupby('BusinessYear').describe()"
   ]
  },
  {
   "cell_type": "code",
   "execution_count": 64,
   "id": "138bd63d-0b9e-4f86-9196-709b577c3ec5",
   "metadata": {},
   "outputs": [
    {
     "data": {
      "image/png": "[encoded data removed]",
      "text/plain": [
       "<Figure size 1000x1000 with 1 Axes>"
      ]
     },
     "metadata": {},
     "output_type": "display_data"
    }
   ],
   "source": [
    "plt.figure(figsize=(10, 10))\n",
    "sns.histplot(new_Benifit_cost.StateCode,color='yellow')\n",
    "plt.title('Routatine dental service', fontsize=25)\n",
    "plt.xlabel('StateCode',fontsize=8)\n",
    "plt.ylabel('Routine Dental Services (Adult)', fontsize=18)\n",
    "plt.show()"
   ]
  },
  {
   "cell_type": "code",
   "execution_count": null,
   "id": "5687f9c4-4d60-4abd-929d-ef847f8fc911",
   "metadata": {},
   "outputs": [],
   "source": []
  }
 ],
 "metadata": {
  "kernelspec": {
   "display_name": "Python [conda env:base] *",
   "language": "python",
   "name": "conda-base-py"
  },
  "language_info": {
   "codemirror_mode": {
    "name": "ipython",
    "version": 3
   },
   "file_extension": ".py",
   "mimetype": "text/x-python",
   "name": "python",
   "nbconvert_exporter": "python",
   "pygments_lexer": "ipython3",
   "version": "3.12.7"
  }
 },
 "nbformat": 4,
 "nbformat_minor": 5
}
